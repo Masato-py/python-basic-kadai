{
  "nbformat": 4,
  "nbformat_minor": 0,
  "metadata": {
    "colab": {
      "provenance": []
    },
    "kernelspec": {
      "name": "python3",
      "display_name": "Python 3"
    },
    "language_info": {
      "name": "python"
    }
  },
  "cells": [
    {
      "cell_type": "code",
      "execution_count": 10,
      "metadata": {
        "colab": {
          "base_uri": "https://localhost:8080/"
        },
        "id": "FPOzuMlPnAw8",
        "outputId": "cdbeaa0c-b179-4207-de5a-70d2bf13742d"
      },
      "outputs": [
        {
          "output_type": "stream",
          "name": "stdout",
          "text": [
            "110.0\n"
          ]
        }
      ],
      "source": [
        "#totalの値を返す定義\n",
        "#returnでprice + price * taxを返す\n",
        "def calculate_total(price,tax):\n",
        "\n",
        "  total = price + price * tax\n",
        "  return total\n",
        "\n",
        "#priceの変数でcalculate_totalの定義を呼び出す\n",
        "price = calculate_total(100,0.1)\n",
        "print(price)"
      ]
    }
  ]
}