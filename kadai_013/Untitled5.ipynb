{
  "nbformat": 4,
  "nbformat_minor": 0,
  "metadata": {
    "colab": {
      "provenance": []
    },
    "kernelspec": {
      "name": "python3",
      "display_name": "Python 3"
    },
    "language_info": {
      "name": "python"
    }
  },
  "cells": [
    {
      "cell_type": "code",
      "execution_count": 1,
      "metadata": {
        "colab": {
          "base_uri": "https://localhost:8080/"
        },
        "id": "FPOzuMlPnAw8",
        "outputId": "de7f349e-6c93-4bcf-8625-3ad6aae481e4"
      },
      "outputs": [
        {
          "output_type": "stream",
          "name": "stdout",
          "text": [
            "120円\n"
          ]
        }
      ],
      "source": [
        "def calculate_total(price,consumption_tax):\n",
        "\n",
        "  total = price + consumption_tax\n",
        "\n",
        "  print(f\"{total}円\")\n",
        "\n",
        "calculate_total(110,10)"
      ]
    },
    {
      "cell_type": "code",
      "source": [],
      "metadata": {
        "id": "SjQj9WDRoR9P"
      },
      "execution_count": null,
      "outputs": []
    }
  ]
}