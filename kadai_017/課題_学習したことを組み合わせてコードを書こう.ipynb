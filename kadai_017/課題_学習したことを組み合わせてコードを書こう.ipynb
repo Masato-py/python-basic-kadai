{
  "nbformat": 4,
  "nbformat_minor": 0,
  "metadata": {
    "colab": {
      "provenance": []
    },
    "kernelspec": {
      "name": "python3",
      "display_name": "Python 3"
    },
    "language_info": {
      "name": "python"
    }
  },
  "cells": [
    {
      "cell_type": "code",
      "source": [
        "#課題\n",
        "#名前(name)と年齢(age)の属性を持つHumanクラスを作成\n",
        "#20以上なら大人、else大人ではない\n",
        "\n",
        "\n",
        "#名前(name)と年齢(age)の属性を持つHumanクラスを作成\n",
        "class Human:\n",
        "  def __init__(self,name,age):\n",
        "    self.name = name\n",
        "    self.age = age\n",
        "\n",
        "  #20以上なら大人、else大人ではない\n",
        "  def check_adult(self):\n",
        "    if self.age >= 20:\n",
        "      return f\"{self.name}さんは大人です。\"\n",
        "    else:\n",
        "      return f\"{self.name}さんは大人ではありません。\"\n",
        "\n",
        "# Humanクラスのインスタンスを複数生成\n",
        "# コンストラクタした場合はクラス名（属性1,属性2)を入力する\n",
        "#配列(リスト)に追加、リスト名[要素1=クラス名（属性1,属性2),要素2,・・・]で入れる\n",
        "humans = [\n",
        "    Human(\"侍太郎\", 27),\n",
        "    Human(\"侍一郎\", 10),\n",
        "    Human(\"侍二郎\", 26),\n",
        "    Human(\"侍三郎\", 19)\n",
        "]\n",
        "\n",
        "# 変数名 in 反復可能オブジェクト:\n",
        "# humansの要素をcheck_adultで1つずつ順番に出力する\n",
        "for human in humans:\n",
        "    print(human.check_adult())"
      ],
      "metadata": {
        "colab": {
          "base_uri": "https://localhost:8080/"
        },
        "id": "_B2qi_gcXVU1",
        "outputId": "29b39848-cfaa-438c-ea7c-e57e3e94215f"
      },
      "execution_count": null,
      "outputs": [
        {
          "output_type": "stream",
          "name": "stdout",
          "text": [
            "侍太郎さんは大人です。\n",
            "侍一郎さんは大人ではありません。\n",
            "侍二郎さんは大人です。\n",
            "侍三郎さんは大人ではありません。\n"
          ]
        }
      ]
    },
    {
      "cell_type": "code",
      "source": [],
      "metadata": {
        "id": "WWjqIDP1bHlU"
      },
      "execution_count": null,
      "outputs": []
    }
  ]
}