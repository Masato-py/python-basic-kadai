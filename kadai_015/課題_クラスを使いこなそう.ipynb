{
  "nbformat": 4,
  "nbformat_minor": 0,
  "metadata": {
    "colab": {
      "provenance": []
    },
    "kernelspec": {
      "name": "python3",
      "display_name": "Python 3"
    },
    "language_info": {
      "name": "python"
    }
  },
  "cells": [
    {
      "cell_type": "code",
      "source": [],
      "metadata": {
        "id": "S270pqVIHcu_"
      },
      "execution_count": null,
      "outputs": []
    },
    {
      "cell_type": "code",
      "source": [
        "#名前(name)と年齢(age)の属性を持つHumanクラスを作成を作成\n",
        "#nameとageを標準出力(print)するメソッド(printinfo)を追加してください。\n",
        "\n",
        "class Human:\n",
        "    def __init__(self):\n",
        "\n",
        "        #属性を定義\n",
        "        self.name = \"\"\n",
        "        self.age = \"\"\n",
        "\n",
        "    # メソッドを定義する\n",
        "    def set_name(self, name):\n",
        "        self.name = name\n",
        "\n",
        "    def set_age(self, age):\n",
        "        self.age = age\n",
        "\n",
        "    def printinfo(self):\n",
        "        print(self.name)\n",
        "        print(self.age)\n",
        "\n",
        "# インスタンス化する\n",
        "kadai = Human()\n",
        "\n",
        "# メソッドにアクセスして実行する\n",
        "kadai.set_name(\"侍太郎\")\n",
        "kadai.set_age(11)\n",
        "kadai.printinfo()"
      ],
      "metadata": {
        "colab": {
          "base_uri": "https://localhost:8080/"
        },
        "outputId": "051fdd75-b069-4b4b-da50-321025b9a36d",
        "id": "96q4moMfHdIn"
      },
      "execution_count": 52,
      "outputs": [
        {
          "output_type": "stream",
          "name": "stdout",
          "text": [
            "侍太郎\n",
            "11\n"
          ]
        }
      ]
    }
  ]
}