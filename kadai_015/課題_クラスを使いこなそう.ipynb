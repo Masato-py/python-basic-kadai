{
  "nbformat": 4,
  "nbformat_minor": 0,
  "metadata": {
    "colab": {
      "provenance": []
    },
    "kernelspec": {
      "name": "python3",
      "display_name": "Python 3"
    },
    "language_info": {
      "name": "python"
    }
  },
  "cells": [
    {
      "cell_type": "code",
      "source": [],
      "metadata": {
        "id": "S270pqVIHcu_"
      },
      "execution_count": null,
      "outputs": []
    },
    {
      "cell_type": "code",
      "source": [
        "#名前(name)と年齢(age)の属性を持つHumanクラスを作成を作成\n",
        "#nameとageを標準出力(print)するメソッド(printinfo)を追加してください。\n",
        "\n",
        "class Human:\n",
        "    def __init__(self,name,age):\n",
        "        # self.~~~は全てこのインスタンスの属性になる\n",
        "\n",
        "        self.name = name\n",
        "        self.age = age\n",
        "\n",
        "    # メソッドを定義する\n",
        "    def set_name(self, name):\n",
        "        self.name = name\n",
        "\n",
        "    def set_age(self, age):\n",
        "        self.age = age\n",
        "\n",
        "    def printinfo(self):\n",
        "        print(self.name)\n",
        "        print(self.age)\n",
        "\n",
        "# インスタンス化する\n",
        "# コンストラクタした場合はクラス名（属性1,属性2)を入力する\n",
        "kadai = Human(\"侍太郎\",12)\n",
        "\n",
        "# メソッドにアクセスして実行する\n",
        "kadai.printinfo()"
      ],
      "metadata": {
        "colab": {
          "base_uri": "https://localhost:8080/"
        },
        "outputId": "9070d960-0e49-425d-e70a-d263276ea78b",
        "id": "96q4moMfHdIn"
      },
      "execution_count": 10,
      "outputs": [
        {
          "output_type": "stream",
          "name": "stdout",
          "text": [
            "侍太郎\n",
            "12\n"
          ]
        }
      ]
    }
  ]
}